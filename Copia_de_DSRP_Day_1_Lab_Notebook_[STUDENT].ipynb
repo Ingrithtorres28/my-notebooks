{
  "nbformat": 4,
  "nbformat_minor": 0,
  "metadata": {
    "colab": {
      "provenance": []
    },
    "kernelspec": {
      "name": "python3",
      "display_name": "Python 3"
    },
    "language_info": {
      "name": "python"
    }
  },
  "cells": [
    {
      "cell_type": "markdown",
      "source": [
        "---\n",
        "# **Lab 1: Python Basics**\n",
        "---\n",
        "\n",
        "\n",
        "### **Description**\n",
        "This lab is designed to provide hands-on practice with Python basics to solidify the foundation upon which we will build our machine learning and data science skills in the coming weeks.\n",
        "\n",
        "\n",
        "<br>\n",
        "\n",
        "### **Lab Structure**\n",
        "**Part 1**: [Print Statements](#p1)\n",
        "\n",
        "**Part 2**: [Variables and Data Types](#p2)\n",
        "\n",
        "**Part 3**: [Arithmetic Operators](#p3)\n",
        "\n",
        "**Part 4**: [Extra Practice](#p4) [optional]\n",
        "\n",
        "\n",
        "\n",
        "<br>\n",
        "\n",
        "### **Learning Objectives**\n",
        " By the end of this lab, we will:\n",
        "* Recognize how information is outputted to the screen.\n",
        "* Recognize that variables are a way to store data.\n",
        "* Recognize the main data types and how to modify them with basic arithmetic operators.\n",
        "\n",
        "\n",
        "<br>\n",
        "\n",
        "\n",
        "### **Resources**\n",
        "* [Python basics Cheat Sheet](https://docs.google.com/document/d/1P3mae56ecUhbi3zq5eCT9T7HamCGEcd3lqqdZvUZAvU/edit?usp=sharing)"
      ],
      "metadata": {
        "id": "rh5I8K12qeQr"
      }
    },
    {
      "cell_type": "markdown",
      "source": [
        "<a name=\"p1\"></a>\n",
        "\n",
        "---\n",
        "## **Part #1: Print Functions**\n",
        "---"
      ],
      "metadata": {
        "id": "Nncig8FoErJz"
      }
    },
    {
      "cell_type": "markdown",
      "source": [
        "### **Problem #1.1**\n",
        "\n",
        "Create a code cell and type: `print(\"Hello!\")`."
      ],
      "metadata": {
        "id": "sicHQHskOR5k"
      }
    },
    {
      "cell_type": "code",
      "source": [
        "print(\"hello!\")"
      ],
      "metadata": {
        "id": "EPyXU5dKpRRw",
        "outputId": "a6e41146-8233-43c2-c7fc-1b05dfde98b1",
        "colab": {
          "base_uri": "https://localhost:8080/"
        }
      },
      "execution_count": null,
      "outputs": [
        {
          "output_type": "stream",
          "name": "stdout",
          "text": [
            "hello!\n"
          ]
        }
      ]
    },
    {
      "cell_type": "markdown",
      "source": [
        "---\n",
        "### **Problem #1.2**\n",
        "\n",
        "\n",
        "Create a code cell and type: `print(\"Today I learned about the basics of Python programming!\")`."
      ],
      "metadata": {
        "id": "gBznbwzhGVPa"
      }
    },
    {
      "cell_type": "code",
      "source": [
        "print(\"Today I learned about the basics of Python programming!\")\n"
      ],
      "metadata": {
        "id": "a5mRs2KppQHA",
        "outputId": "a94105b6-2f4c-4800-a477-b551f93e41d4",
        "colab": {
          "base_uri": "https://localhost:8080/"
        }
      },
      "execution_count": null,
      "outputs": [
        {
          "output_type": "stream",
          "name": "stdout",
          "text": [
            "Today I learned about the basics of Python programming!\n"
          ]
        }
      ]
    },
    {
      "cell_type": "markdown",
      "source": [
        "---\n",
        "\n",
        "### **Now your turn! Try Problems #1.3-1.5 on your own.**\n",
        "\n",
        "---"
      ],
      "metadata": {
        "id": "BaXdKVoFi5Qd"
      }
    },
    {
      "cell_type": "markdown",
      "source": [
        "\n",
        "### **Problem #1.3**\n",
        "\n",
        "\n",
        "Print your favorite color."
      ],
      "metadata": {
        "id": "1FxKXJTnEuW5"
      }
    },
    {
      "cell_type": "code",
      "source": [
        "print('Yellow')"
      ],
      "metadata": {
        "id": "ev94xJlcpXo3",
        "colab": {
          "base_uri": "https://localhost:8080/"
        },
        "outputId": "63b88a36-bb09-4b4f-dc5b-d6b356da2d08"
      },
      "execution_count": null,
      "outputs": [
        {
          "output_type": "stream",
          "name": "stdout",
          "text": [
            "Yellow\n"
          ]
        }
      ]
    },
    {
      "cell_type": "markdown",
      "source": [
        "---\n",
        "### **Problem #1.4**\n",
        "\n",
        "\n",
        "Print a sentence that describes what state or country you are from.\n"
      ],
      "metadata": {
        "id": "rGlILc5uFHhr"
      }
    },
    {
      "cell_type": "code",
      "source": [
        "print('I am from mexico')"
      ],
      "metadata": {
        "id": "ksGcBOdPFNwh",
        "colab": {
          "base_uri": "https://localhost:8080/"
        },
        "outputId": "e0d30c21-4d5a-4f49-bc01-7f6246e1a9b9"
      },
      "execution_count": null,
      "outputs": [
        {
          "output_type": "stream",
          "name": "stdout",
          "text": [
            "I am from mexico\n"
          ]
        }
      ]
    },
    {
      "cell_type": "markdown",
      "source": [
        "---\n",
        "### **Problem #1.5**\n",
        "\n",
        "Print the food you had for breakfast today."
      ],
      "metadata": {
        "id": "uxrrgBQlFSSS"
      }
    },
    {
      "cell_type": "code",
      "source": [
        "print('today I had tamal for breakfast')"
      ],
      "metadata": {
        "id": "-S0HsjPlFZgv",
        "colab": {
          "base_uri": "https://localhost:8080/"
        },
        "outputId": "a5a14d9e-3b38-4eba-c78f-8eeca5003d40"
      },
      "execution_count": null,
      "outputs": [
        {
          "output_type": "stream",
          "name": "stdout",
          "text": [
            "today I had tamal for breakfast\n"
          ]
        }
      ]
    },
    {
      "cell_type": "markdown",
      "source": [
        "---\n",
        "### **Problem #1.6**\n",
        "\n",
        "The ability to choose between single quotes and double quotes is useful when trying to print either of these characters. We can use one to print the other.\n"
      ],
      "metadata": {
        "id": "y1zOK6Ii3es6"
      }
    },
    {
      "cell_type": "code",
      "source": [
        "print(\"My cat's name is Michelle.\")\n",
        "\n",
        "print('Michelle said \"meow\".')"
      ],
      "metadata": {
        "colab": {
          "base_uri": "https://localhost:8080/"
        },
        "id": "XtE6o0K13es7",
        "outputId": "d77d6af8-ef1c-46de-c6a6-e86a966d858d"
      },
      "execution_count": null,
      "outputs": [
        {
          "output_type": "stream",
          "name": "stdout",
          "text": [
            "My cat's name is Michelle.\n",
            "Michelle said \"meow\".\n",
            "My cat's name is Michelle.\n",
            "Michelle said \"meow\".\n"
          ]
        }
      ]
    },
    {
      "cell_type": "markdown",
      "source": [
        "---\n",
        "###Back To Lab Slides\n",
        "---\n"
      ],
      "metadata": {
        "id": "6c7e-a7BFd7x"
      }
    },
    {
      "cell_type": "markdown",
      "source": [
        "\n",
        "### **Problem #1.6**\n",
        "\n",
        "\n",
        "Create a code cell and print your favorite number."
      ],
      "metadata": {
        "id": "nCe6tA7tHLIc"
      }
    },
    {
      "cell_type": "code",
      "source": [
        "print('8')"
      ],
      "metadata": {
        "id": "tZw6My2uozHa",
        "outputId": "7a0a3585-1589-4902-b7fb-0dcc12588a71",
        "colab": {
          "base_uri": "https://localhost:8080/"
        }
      },
      "execution_count": null,
      "outputs": [
        {
          "output_type": "stream",
          "name": "stdout",
          "text": [
            "8\n"
          ]
        }
      ]
    },
    {
      "cell_type": "markdown",
      "source": [
        "---\n",
        "### **Problem #1.7**\n",
        "\n",
        "\n",
        "Create a code cell and print the sum of 33 and -11."
      ],
      "metadata": {
        "id": "U4eyO4sCHVlb"
      }
    },
    {
      "cell_type": "code",
      "source": [
        "print(33+(-11))"
      ],
      "metadata": {
        "id": "dLJ2qoXYpGz4",
        "outputId": "8dfe8f10-6dd2-4cea-ea40-47539d38ce52",
        "colab": {
          "base_uri": "https://localhost:8080/"
        }
      },
      "execution_count": null,
      "outputs": [
        {
          "output_type": "stream",
          "name": "stdout",
          "text": [
            "22\n"
          ]
        }
      ]
    },
    {
      "cell_type": "markdown",
      "source": [
        "---\n",
        "\n",
        "### **Now your turn! Try Problems #1.8-1.11 on your own.**\n",
        "\n",
        "---"
      ],
      "metadata": {
        "id": "pZ07b0dxjr-k"
      }
    },
    {
      "cell_type": "markdown",
      "source": [
        "\n",
        "### **Problem #1.8**\n",
        "\n",
        "\n",
        "Print the number of months in a year."
      ],
      "metadata": {
        "id": "73KBI9U4IAnW"
      }
    },
    {
      "cell_type": "code",
      "source": [
        "print('07')"
      ],
      "metadata": {
        "id": "zmA7sZEmUJtt",
        "colab": {
          "base_uri": "https://localhost:8080/"
        },
        "outputId": "fddf9164-40b6-45c1-c4e6-c455243b733e"
      },
      "execution_count": null,
      "outputs": [
        {
          "output_type": "stream",
          "name": "stdout",
          "text": [
            "07\n"
          ]
        }
      ]
    },
    {
      "cell_type": "markdown",
      "source": [
        "---\n",
        "### **Problem #1.9**\n",
        "\n",
        "\n",
        "Print the current year."
      ],
      "metadata": {
        "id": "1L9UH0tVIQS3"
      }
    },
    {
      "cell_type": "code",
      "source": [
        "print('2025')"
      ],
      "metadata": {
        "id": "6UcV-z_aULfy",
        "colab": {
          "base_uri": "https://localhost:8080/"
        },
        "outputId": "f196760d-0df9-40fd-9c96-4c617fc02a36"
      },
      "execution_count": null,
      "outputs": [
        {
          "output_type": "stream",
          "name": "stdout",
          "text": [
            "2025\n"
          ]
        }
      ]
    },
    {
      "cell_type": "markdown",
      "source": [
        "---\n",
        "### **Problem #1.10**\n",
        "\n",
        "\n",
        "Print today's date in the following format: MDDYYYY."
      ],
      "metadata": {
        "id": "kEWPBjjYIWBY"
      }
    },
    {
      "cell_type": "code",
      "source": [
        "print('07072025')"
      ],
      "metadata": {
        "id": "zVu0tbWyUNXK",
        "colab": {
          "base_uri": "https://localhost:8080/"
        },
        "outputId": "2de469a9-95e8-4abf-cefe-46ac00836028"
      },
      "execution_count": null,
      "outputs": [
        {
          "output_type": "stream",
          "name": "stdout",
          "text": [
            "07072025\n"
          ]
        }
      ]
    },
    {
      "cell_type": "markdown",
      "source": [
        "---\n",
        "### **Problem #1.11**\n",
        "\n",
        "\n",
        "Print the sum of your age plus the age of your best friend.\n",
        "\n",
        "\n",
        "16+18 = 34"
      ],
      "metadata": {
        "id": "w5_afO4Qed4Q"
      }
    },
    {
      "cell_type": "markdown",
      "source": [
        "---\n",
        "###Back To Lab Slides\n",
        "---\n"
      ],
      "metadata": {
        "id": "IHoWW-vDIj4k"
      }
    },
    {
      "cell_type": "markdown",
      "source": [
        "<a name=\"p2\"></a>\n",
        "\n",
        "---\n",
        "## **Part #2: Variables & Data Types**\n",
        "---"
      ],
      "metadata": {
        "id": "8ZlKbmO6kmGl"
      }
    },
    {
      "cell_type": "markdown",
      "source": [
        "### **Problem #2.1**\n",
        "\n",
        "\n",
        "Create a variable called `my_name` and assign it to your first name. Print this variable."
      ],
      "metadata": {
        "id": "6tp4GH_pFiXc"
      }
    },
    {
      "cell_type": "code",
      "source": [
        "My_name='Ingrith'\n",
        "print(My_name)"
      ],
      "metadata": {
        "id": "mRRdH1SnF2ck",
        "colab": {
          "base_uri": "https://localhost:8080/"
        },
        "outputId": "e0805b1c-90f5-40a9-e297-feecb3781655"
      },
      "execution_count": null,
      "outputs": [
        {
          "output_type": "stream",
          "name": "stdout",
          "text": [
            "Ingrith\n"
          ]
        }
      ]
    },
    {
      "cell_type": "markdown",
      "source": [
        "---\n",
        "### **Problem #2.2**\n",
        "\n",
        "Create and name a variable with your favorite number as an integer. Print that variable."
      ],
      "metadata": {
        "id": "GeA492pRF9Et"
      }
    },
    {
      "cell_type": "code",
      "source": [
        "Fav_int='08'\n",
        "print(Fav_int)"
      ],
      "metadata": {
        "id": "2UIxtgq1GEfP",
        "colab": {
          "base_uri": "https://localhost:8080/"
        },
        "outputId": "b92ea3e3-d4a0-42e4-de84-711f02f550cf"
      },
      "execution_count": null,
      "outputs": [
        {
          "output_type": "stream",
          "name": "stdout",
          "text": [
            "08\n"
          ]
        }
      ]
    },
    {
      "cell_type": "markdown",
      "source": [
        "---\n",
        "### **Problem #2.3**\n",
        "\n",
        "Create and name a variable with your favorite number as a float. Print that variable."
      ],
      "metadata": {
        "id": "PFzpApaisZj3"
      }
    },
    {
      "cell_type": "code",
      "source": [
        "Fav_float = '8.0'\n",
        "print(Fav_float)"
      ],
      "metadata": {
        "id": "TJ1lbMmBseNz",
        "colab": {
          "base_uri": "https://localhost:8080/"
        },
        "outputId": "86768e6b-9633-4f49-80d3-320b7b3a6650"
      },
      "execution_count": null,
      "outputs": [
        {
          "output_type": "stream",
          "name": "stdout",
          "text": [
            "8.0\n"
          ]
        }
      ]
    },
    {
      "cell_type": "markdown",
      "source": [
        "---\n",
        "\n",
        "### **Now your turn! Try Problems #2.4-2.6 on your own.**\n",
        "\n",
        "---\n"
      ],
      "metadata": {
        "id": "jK_9G-b4Thcu"
      }
    },
    {
      "cell_type": "markdown",
      "source": [
        "\n",
        "### **Problem #2.4**\n",
        "\n",
        "\n",
        "\n",
        "Look through the given declarations. Which ones are incorrect?\n",
        "\n",
        "```\n",
        "Var1 = 7\n",
        "VAR5 = 8\n",
        "2var = 92\n",
        "first_last_name = \"james gooding\"\n",
        "Hello! = 0.283\n",
        "variable24 = \"my favorite food is\"\n",
        "str = \"string\"\n",
        "```\n",
        "\n"
      ],
      "metadata": {
        "id": "idKFoy5PGMXj"
      }
    },
    {
      "cell_type": "markdown",
      "source": [
        "2var is wrond because can't star with number\n",
        "\n",
        "hello is wrond because can be symbols \"!\""
      ],
      "metadata": {
        "id": "Tw5Yi_oNnjFp"
      }
    },
    {
      "cell_type": "markdown",
      "source": [
        "---\n",
        "### **Problem #2.5**\n",
        "\n",
        "\n",
        "Create and a name a variable that stores a list of 3 fruits. Print that variable.\n",
        "\n"
      ],
      "metadata": {
        "id": "9spWwdiHrt_o"
      }
    },
    {
      "cell_type": "code",
      "source": [
        "fruits=[\"apple\",\"watermelon\",\"pineapple\"]\n",
        "print(fruits)"
      ],
      "metadata": {
        "id": "28BdodiAszpO",
        "colab": {
          "base_uri": "https://localhost:8080/"
        },
        "outputId": "88286181-5c76-4995-b393-4eac8ba01ad3"
      },
      "execution_count": null,
      "outputs": [
        {
          "output_type": "stream",
          "name": "stdout",
          "text": [
            "['apple', 'watermelon', 'pineapple']\n"
          ]
        }
      ]
    },
    {
      "cell_type": "markdown",
      "source": [
        "---\n",
        "### **Problem #2.6**\n",
        "\n",
        "Create two variables to represent your height, one variable for feet, one for inches. Name your variables appropriately."
      ],
      "metadata": {
        "id": "qCkX0Ndbu099"
      }
    },
    {
      "cell_type": "code",
      "source": [
        "height_feet = '5'\n",
        "height_inches = '7'\n",
        "print(height_feet)\n",
        "print(height_inches)"
      ],
      "metadata": {
        "id": "eAck5rdUvJbm",
        "colab": {
          "base_uri": "https://localhost:8080/"
        },
        "outputId": "9bc58da6-76cf-4e8a-edb9-d7748181072d"
      },
      "execution_count": null,
      "outputs": [
        {
          "output_type": "stream",
          "name": "stdout",
          "text": [
            "5\n",
            "7\n"
          ]
        }
      ]
    },
    {
      "cell_type": "markdown",
      "source": [],
      "metadata": {
        "id": "qGA5nphnNZI_"
      }
    },
    {
      "cell_type": "markdown",
      "source": [
        "---\n",
        "###Back To Lab Slides\n",
        "---"
      ],
      "metadata": {
        "id": "zQraW7-mGkcl"
      }
    },
    {
      "cell_type": "markdown",
      "source": [
        "<a name=\"p3\"></a>\n",
        "\n",
        "---\n",
        "## **Part 3: Arithmetic Operators**\n",
        "---"
      ],
      "metadata": {
        "id": "H5MIexSZviqM"
      }
    },
    {
      "cell_type": "markdown",
      "source": [
        "### **Problem #3.1**\n",
        "\n",
        "\n",
        "Print the sum of 3 and 2. Take note of the output."
      ],
      "metadata": {
        "id": "Nkrwij4gSu0h"
      }
    },
    {
      "cell_type": "code",
      "source": [
        "print(3+2)"
      ],
      "metadata": {
        "id": "rwGjkCmrT8cp",
        "colab": {
          "base_uri": "https://localhost:8080/"
        },
        "outputId": "cedd3d4a-9eec-4ff3-c0ba-d9e1f0332a59"
      },
      "execution_count": null,
      "outputs": [
        {
          "output_type": "stream",
          "name": "stdout",
          "text": [
            "5\n"
          ]
        }
      ]
    },
    {
      "cell_type": "markdown",
      "source": [
        "---\n",
        "### **Problem #3.2**\n",
        "\n",
        "\n",
        "Print the sum of 7.0 and 2.0. Take note of the output."
      ],
      "metadata": {
        "id": "TMg9xuU4bGXO"
      }
    },
    {
      "cell_type": "code",
      "source": [
        "print(7.0+2.0)"
      ],
      "metadata": {
        "id": "gxuz6DBtbS4b",
        "colab": {
          "base_uri": "https://localhost:8080/"
        },
        "outputId": "01576867-b5b7-494a-956e-56beac4163e7"
      },
      "execution_count": null,
      "outputs": [
        {
          "output_type": "stream",
          "name": "stdout",
          "text": [
            "9.0\n"
          ]
        }
      ]
    },
    {
      "cell_type": "markdown",
      "source": [
        "---\n",
        "### **Problem #3.3**\n",
        "\n",
        "\n",
        "What is 23 divided by 2? Print the answer. Take note of the output."
      ],
      "metadata": {
        "id": "AoNyZMOLbHzG"
      }
    },
    {
      "cell_type": "code",
      "source": [
        "print(23/2)"
      ],
      "metadata": {
        "id": "2qLvU5ArbX9e",
        "colab": {
          "base_uri": "https://localhost:8080/"
        },
        "outputId": "76ec7b80-1fd2-438f-e0c9-d7ca922795d8"
      },
      "execution_count": null,
      "outputs": [
        {
          "output_type": "stream",
          "name": "stdout",
          "text": [
            "11.5\n"
          ]
        }
      ]
    },
    {
      "cell_type": "markdown",
      "source": [
        "---\n",
        "### **Problem #3.4**\n",
        "\n",
        "\n",
        "Print the product of 24.0 and 25.4. Take note of the output."
      ],
      "metadata": {
        "id": "MAhg9IhNbIW9"
      }
    },
    {
      "cell_type": "code",
      "source": [
        "print(24.0*25.4)"
      ],
      "metadata": {
        "id": "vQouy4o_brEN",
        "colab": {
          "base_uri": "https://localhost:8080/"
        },
        "outputId": "8af798a1-b656-4ccf-f4e8-8826ca26d7e1"
      },
      "execution_count": null,
      "outputs": [
        {
          "output_type": "stream",
          "name": "stdout",
          "text": [
            "609.5999999999999\n"
          ]
        }
      ]
    },
    {
      "cell_type": "markdown",
      "source": [
        "---\n",
        "### **Problem #3.5**\n",
        "\n",
        "\n",
        "Create and name a variable `fav_number` with your favorite number as an integer. Multiply the variable by 3 and print the result."
      ],
      "metadata": {
        "id": "EcB4WGxvTKYZ"
      }
    },
    {
      "cell_type": "code",
      "source": [
        "Fav_number=28\n",
        "print(Fav_number)"
      ],
      "metadata": {
        "id": "0hNxBDXHUT77",
        "colab": {
          "base_uri": "https://localhost:8080/"
        },
        "outputId": "d133c93d-24c4-48fa-9f5c-ee650f5fd09c"
      },
      "execution_count": null,
      "outputs": [
        {
          "output_type": "stream",
          "name": "stdout",
          "text": [
            "28\n"
          ]
        }
      ]
    },
    {
      "cell_type": "markdown",
      "source": [
        "---\n",
        "\n",
        "### **Now your turn! Try Problems #3.6-3.10 on your own.**\n",
        "\n",
        "---"
      ],
      "metadata": {
        "id": "Ttxn0Y39k4mS"
      }
    },
    {
      "cell_type": "markdown",
      "source": [
        "\n",
        "### **Problem #3.6**\n",
        "\n",
        "\n",
        "You have 2 bananas and 5 apples. How many fruits do you have in total?"
      ],
      "metadata": {
        "id": "1cPGnpbfTdGP"
      }
    },
    {
      "cell_type": "code",
      "source": [
        "bananas=2\n",
        "apples=5\n",
        "print(bananas+apples)"
      ],
      "metadata": {
        "colab": {
          "base_uri": "https://localhost:8080/"
        },
        "id": "eSTJ98vtQtJb",
        "outputId": "35d45d9c-30bd-4307-cff4-06909f945967"
      },
      "execution_count": null,
      "outputs": [
        {
          "output_type": "stream",
          "name": "stdout",
          "text": [
            "7\n"
          ]
        }
      ]
    },
    {
      "cell_type": "markdown",
      "source": [
        "---\n",
        "### **Problem #3.7**\n",
        "\n",
        "\n",
        "You got a 90 on your biology test, and then answered the extra credit question, which gave you an additional 4 points. Calculate and print your final grade.\n",
        "\n"
      ],
      "metadata": {
        "id": "fn83nMUNTmfx"
      }
    },
    {
      "cell_type": "code",
      "source": [
        "original_grade = 90\n",
        "bonus = 4\n",
        "print(original_grade+bonus)"
      ],
      "metadata": {
        "id": "FMtsQNH0UXsB",
        "colab": {
          "base_uri": "https://localhost:8080/"
        },
        "outputId": "0d6a786e-4b0c-4730-a85d-58761642275a"
      },
      "execution_count": null,
      "outputs": [
        {
          "output_type": "stream",
          "name": "stdout",
          "text": [
            "94\n"
          ]
        }
      ]
    },
    {
      "cell_type": "markdown",
      "source": [
        "---\n",
        "### **Problem #3.8**\n",
        "\n",
        "\n",
        "The length and width of a rectangle are 5 and 8, respectively. Calculate the area of a rectangle using these variables and print the result."
      ],
      "metadata": {
        "id": "jzGCZY4Vy4wq"
      }
    },
    {
      "cell_type": "code",
      "source": [
        "length = 5\n",
        "width = 8\n",
        "print(length+width)"
      ],
      "metadata": {
        "id": "W0m-Cu7600R5",
        "colab": {
          "base_uri": "https://localhost:8080/"
        },
        "outputId": "6b550943-34d0-4f59-994c-a35c10e90ff6"
      },
      "execution_count": null,
      "outputs": [
        {
          "output_type": "stream",
          "name": "stdout",
          "text": [
            "13\n"
          ]
        }
      ]
    },
    {
      "cell_type": "markdown",
      "source": [
        "---\n",
        "### **Problem #3.9**\n",
        "\n",
        "\n",
        "Create three variables `num1`, `num2`, and `num3` and assign them the values of 5, 24, and 67, respectively. Then calculate the average of these three numbers."
      ],
      "metadata": {
        "id": "nqFlPpynzsCE"
      }
    },
    {
      "cell_type": "code",
      "source": [
        "num1 =5\n",
        "num2 = 24\n",
        "num3 = 67\n",
        "\n",
        "avg=(num1 + num2 + num3)/3\n",
        "\n",
        "print((num1 + num2 + num3)/3)"
      ],
      "metadata": {
        "id": "xcZdD-_A1nHc",
        "colab": {
          "base_uri": "https://localhost:8080/"
        },
        "outputId": "ac589a65-6ad2-4389-e8b6-3afd85a6e222"
      },
      "execution_count": null,
      "outputs": [
        {
          "output_type": "stream",
          "name": "stdout",
          "text": [
            "32.0\n"
          ]
        }
      ]
    },
    {
      "cell_type": "markdown",
      "source": [
        "---\n",
        "### **Problem #3.10**\n",
        "\n",
        "\n",
        "Create a variable named `temperature` and assign a value of 25. Convert the temperature from Celsius to Fahrenheit using the formula (`temperature` * 9/5) + 32 and print the result."
      ],
      "metadata": {
        "id": "YFE22tI8zsJI"
      }
    },
    {
      "cell_type": "code",
      "source": [
        "temperature=25\n",
        "print(temperature *9/5 + 32)"
      ],
      "metadata": {
        "id": "FsLpVgJN7uXG",
        "colab": {
          "base_uri": "https://localhost:8080/"
        },
        "outputId": "f54c4a1e-4d74-4147-e735-b821eb2f68ae"
      },
      "execution_count": null,
      "outputs": [
        {
          "output_type": "stream",
          "name": "stdout",
          "text": [
            "77.0\n"
          ]
        }
      ]
    },
    {
      "cell_type": "markdown",
      "source": [
        "---\n",
        "###Back To Lab Slides\n",
        "---"
      ],
      "metadata": {
        "id": "QC52fy-oT2Wv"
      }
    },
    {
      "cell_type": "markdown",
      "source": [
        "<a name=\"p4\"></a>\n",
        "\n",
        "---\n",
        "## **Part 4: Extra Practice** [OPTIONAL]\n",
        "---"
      ],
      "metadata": {
        "id": "ifCz5BOUJsZG"
      }
    },
    {
      "cell_type": "markdown",
      "source": [
        "### **Problem #4.1**\n",
        "\n",
        "\n",
        "What's wrong with the following declaration?\n",
        "\n",
        "A)\n",
        "```\n",
        "1var = 323.0\n",
        "```\n",
        "B)\n",
        "```\n",
        "month@month = \"July\"\n",
        "```\n",
        "\n",
        "C)\n",
        "```\n",
        "month year = \"july2020\"\n",
        "```\n",
        "\n",
        "A) can't start with number\n",
        "\n",
        "B)the @ can't use\n",
        "\n",
        "C)Can no used space in variable names"
      ],
      "metadata": {
        "id": "KVG4EcnAFl_D"
      }
    },
    {
      "cell_type": "markdown",
      "source": [
        "---\n",
        "### **Problem #4.2**\n",
        "\n",
        "\n",
        "Create a list named `nums` with values 1, 2, and 3."
      ],
      "metadata": {
        "id": "KJaTpSVBsuAO"
      }
    },
    {
      "cell_type": "code",
      "source": [
        "nums=[1,2,3]\n",
        "print(nums)"
      ],
      "metadata": {
        "id": "oNKRJdj1s3LM",
        "colab": {
          "base_uri": "https://localhost:8080/"
        },
        "outputId": "3e18dfc4-f574-49bc-c391-acfa30110942"
      },
      "execution_count": null,
      "outputs": [
        {
          "output_type": "stream",
          "name": "stdout",
          "text": [
            "[1, 2, 3]\n"
          ]
        }
      ]
    },
    {
      "cell_type": "markdown",
      "source": [
        "---\n",
        "### **Problem #4.3**\n",
        "\n",
        "\n",
        "Divide 13 by 7. Make sure the answer has decimals."
      ],
      "metadata": {
        "id": "21SvhgGZx9i8"
      }
    },
    {
      "cell_type": "code",
      "source": [
        "\n",
        "print(13 / 7)\n"
      ],
      "metadata": {
        "id": "JWFKJiJZyvS0",
        "colab": {
          "base_uri": "https://localhost:8080/"
        },
        "outputId": "99df2641-4148-4e15-e2fb-2f2667736982"
      },
      "execution_count": null,
      "outputs": [
        {
          "output_type": "stream",
          "name": "stdout",
          "text": [
            "1.8571428571428572\n"
          ]
        }
      ]
    },
    {
      "cell_type": "markdown",
      "source": [
        "---\n",
        "### **Problem #4.4**\n",
        "\n",
        "\n",
        "Starting with the code below, reassign the variable, `candybar`, to \"Milkyway.\" Check to make sure it worked."
      ],
      "metadata": {
        "id": "8_PhufOasfz6"
      }
    },
    {
      "cell_type": "code",
      "source": [
        "candybar = \"Snickers\"\n",
        "print(candybar)\n",
        "\n",
        "candybar='Milkyway'\n",
        "print(candybar)"
      ],
      "metadata": {
        "id": "iiuPR05DtmTz",
        "colab": {
          "base_uri": "https://localhost:8080/"
        },
        "outputId": "54bf4525-32e0-4360-8d73-cabf475e8e66"
      },
      "execution_count": null,
      "outputs": [
        {
          "output_type": "stream",
          "name": "stdout",
          "text": [
            "Snickers\n",
            "Milkyway\n"
          ]
        }
      ]
    },
    {
      "cell_type": "markdown",
      "source": [
        "---\n",
        "### **Problem #4.5**\n",
        "\n",
        "\n",
        "Using the code below, what will print when you `print(bananas)`? Why?\n",
        "\n",
        "```\n",
        "bananas = 4\n",
        "apples = 3\n",
        "oranges = banana\n",
        "bananas = 8\n",
        "print(bananas)\n",
        "```"
      ],
      "metadata": {
        "id": "CwVZnyLVJzUK"
      }
    },
    {
      "cell_type": "markdown",
      "source": [
        "---\n",
        "### **Problem #4.6**\n",
        "\n",
        "\n",
        "Name a variable `name` and assign it your name. Then change the value to your instructor's name."
      ],
      "metadata": {
        "id": "haFKT9ykFGnT"
      }
    },
    {
      "cell_type": "code",
      "source": [
        "name=\"kayvan\"\n",
        "\n",
        "name=\"Jalali\"\n",
        "print(name)"
      ],
      "metadata": {
        "id": "zgK-yT__vafM",
        "colab": {
          "base_uri": "https://localhost:8080/"
        },
        "outputId": "603d1f1b-1a76-4477-ebd6-8ef3cd4ba8fe"
      },
      "execution_count": null,
      "outputs": [
        {
          "output_type": "stream",
          "name": "stdout",
          "text": [
            "Jalali\n"
          ]
        }
      ]
    },
    {
      "cell_type": "markdown",
      "source": [
        "---\n",
        "### **Problem #4.7**\n",
        "\n",
        "\n",
        "Create a list named 'grocery_list' and add 5 items. Print the list."
      ],
      "metadata": {
        "id": "Gv3521gxaoSd"
      }
    },
    {
      "cell_type": "code",
      "source": [
        "grocery_list =[\"soap\",\"bottle water\",\"orange juice\",\"rice\",\"apples\"]\n",
        "print(grocery_list)"
      ],
      "metadata": {
        "id": "2w6oV7LTbTpH",
        "colab": {
          "base_uri": "https://localhost:8080/"
        },
        "outputId": "2f775c02-756a-4dcc-ee6e-c10c40d4788d"
      },
      "execution_count": null,
      "outputs": [
        {
          "output_type": "stream",
          "name": "stdout",
          "text": [
            "['soap', 'bottle water', 'orange juice', 'rice', 'apples']\n"
          ]
        }
      ]
    },
    {
      "cell_type": "markdown",
      "source": [
        "---\n",
        "### **Problem #4.8**\n",
        "\n",
        "\n",
        "What are the following data types?\n",
        "\n",
        "```\n",
        "4323 integer\n",
        "\n",
        "\"word\" string\n",
        "\n",
        "[4.0, 25.4, 192.0] list of floats\n",
        "\n",
        "[\"apples\", \"bananas\", \"oranges\"] list of strings\n",
        "\n",
        "-1.231 Float\n",
        "```"
      ],
      "metadata": {
        "id": "NSImpFSvtABU"
      }
    },
    {
      "cell_type": "markdown",
      "source": [
        "---\n",
        "### **Problem #4.9**\n",
        "\n",
        "\n",
        "Create a list called `capitals` and list 5 U.S. State capitals.\n",
        "\n",
        "Print the list."
      ],
      "metadata": {
        "id": "fnbDhhBdaDGQ"
      }
    },
    {
      "cell_type": "code",
      "source": [
        "capitals=[\"Philadelphia\", \"New York City\", \"Baltimore\", \"Lancaster\",\"Washington\"]\n",
        "\n",
        "print(capitals)"
      ],
      "metadata": {
        "id": "tbK8zwjYaAHf",
        "colab": {
          "base_uri": "https://localhost:8080/"
        },
        "outputId": "420a35b0-6497-4b07-dd76-99215336945b"
      },
      "execution_count": null,
      "outputs": [
        {
          "output_type": "stream",
          "name": "stdout",
          "text": [
            "['Philadelphia', 'New York City', 'Baltimore', 'Lancaster', 'Washington']\n"
          ]
        }
      ]
    },
    {
      "cell_type": "markdown",
      "source": [
        "---\n",
        "### **Problem #4.10**\n",
        "\n",
        "\n",
        "Your plant grew 5.3 inches in 10 days. Create a variable `height` and assign it to value 5.3. Create a variable `days` and assign it to value 10. Assuming your plant grew the same amount everyday, how much did it grow each day?"
      ],
      "metadata": {
        "id": "CAOsjIOJEwZr"
      }
    },
    {
      "cell_type": "code",
      "source": [
        "height=5.3\n",
        "days=10\n",
        "print(height/days)"
      ],
      "metadata": {
        "id": "M93r7YoBsy0s",
        "colab": {
          "base_uri": "https://localhost:8080/"
        },
        "outputId": "a8b6258e-8a51-4654-ec06-43de792aaf5b"
      },
      "execution_count": null,
      "outputs": [
        {
          "output_type": "stream",
          "name": "stdout",
          "text": [
            "0.53\n"
          ]
        }
      ]
    },
    {
      "cell_type": "markdown",
      "source": [
        "---\n",
        "### **Problem #4.11**\n",
        "\n",
        "\n",
        "Jake has 5 bags of coins. Each bag has 18 coins in it. How many coins in total does Jake have? Create variables `bags` and `coins` and print their product: `total`.\n"
      ],
      "metadata": {
        "id": "UHeue490wHt_"
      }
    },
    {
      "cell_type": "code",
      "source": [
        "bags=5\n",
        "coins=18\n",
        "print(bags*coins)"
      ],
      "metadata": {
        "id": "f0FPR_Lojz1L",
        "outputId": "884bf9b3-2de3-4290-f1e5-f80c8eb87892",
        "colab": {
          "base_uri": "https://localhost:8080/"
        }
      },
      "execution_count": null,
      "outputs": [
        {
          "output_type": "stream",
          "name": "stdout",
          "text": [
            "90\n"
          ]
        }
      ]
    },
    {
      "cell_type": "markdown",
      "source": [
        "---\n",
        "#End of notebook\n",
        "\n",
        "© 2025 The Coding School, All rights reserved"
      ],
      "metadata": {
        "id": "Q2wvzsccqNCk"
      }
    }
  ]
}